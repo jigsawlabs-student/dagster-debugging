{
 "cells": [
  {
   "cell_type": "markdown",
   "id": "c424e0b4-cbe8-4297-bcae-11e653c58817",
   "metadata": {},
   "source": [
    "# Comparing Runs"
   ]
  },
  {
   "cell_type": "markdown",
   "id": "5038e4e3-6f99-4988-9a3a-335ecc136390",
   "metadata": {},
   "source": [
    "Now that we are oriented, we may feel comfortable moving back to the recommended files.\n",
    "\n",
    "* [Dagster Run File](https://github.com/dagster-io/dagster/blob/master/python_modules/dagster/dagster/_core/storage/dagster_run.py#L382-L384)\n",
    "\n",
    "To compare with the: \n",
    "* [Dagster Job File](https://github.com/dagster-io/dagster/blob/master/python_modules/dagster/dagster/_cli/job.py)\n",
    "\n"
   ]
  },
  {
   "cell_type": "markdown",
   "id": "edd46528-044f-450a-99bb-8cd6899c08c7",
   "metadata": {},
   "source": [
    "### Get Familiar with Run"
   ]
  },
  {
   "cell_type": "markdown",
   "id": "5122b487-2ffb-4bda-8049-95874c901d4b",
   "metadata": {},
   "source": [
    "* We can look at the run, with a question of how this run information is *stored* in a db, and also looking to see where tagging information is stored\n",
    "\n",
    "* What's a repository with Dagster\n",
    "    \n",
    "    * Per [docs](https://docs.dagster.io/concepts/repositories-workspaces/repositories), Collection of Jobs, Schedules, and Sensors\n",
    "    * This is the old version of definitions\n",
    "    "
   ]
  },
  {
   "cell_type": "markdown",
   "id": "8521f93d-f07f-46c7-b56b-4b981301eff6",
   "metadata": {},
   "source": [
    "* In Dagster Runs, says:\n",
    "* \"\"\"Serializable internal representation of a dagster run, as stored in a\n",
    "    :py:class:`~dagster._core.storage.runs.RunStorage`.\"\"\""
   ]
  },
  {
   "cell_type": "markdown",
   "id": "731bb6a6-6a0c-43ae-a4d1-a204685cb482",
   "metadata": {},
   "source": [
    "* Can see in run_storage.py, line 136\n",
    "```python\n",
    "\n",
    "added = storage.add_run(\n",
    "            TestRunStorage.build_run(run_id=run_id, job_name=\"some_pipeline\", tags={\"foo\": \"bar\"})\n",
    "        )\n",
    "```"
   ]
  },
  {
   "cell_type": "markdown",
   "id": "07f8f082-1122-4334-8a1e-0e565f1240f0",
   "metadata": {},
   "source": [
    "* In _cli/Job.py \n",
    "    * create_external_run\n",
    "        * instance.create_run() (533)"
   ]
  },
  {
   "cell_type": "markdown",
   "id": "72ec3e01-1de1-4c5d-b71f-cef1b80434ac",
   "metadata": {},
   "source": [
    "And remember the PipelineRunsRootQuery, was missing a pipeline name\n",
    "<img src=\"./pipeline-runs-root.png\">"
   ]
  },
  {
   "cell_type": "code",
   "execution_count": null,
   "id": "6c1369a3-afa4-46c1-963e-55d4d66ae3a8",
   "metadata": {},
   "outputs": [],
   "source": []
  }
 ],
 "metadata": {
  "kernelspec": {
   "display_name": "Python 3 (ipykernel)",
   "language": "python",
   "name": "python3"
  },
  "language_info": {
   "codemirror_mode": {
    "name": "ipython",
    "version": 3
   },
   "file_extension": ".py",
   "mimetype": "text/x-python",
   "name": "python",
   "nbconvert_exporter": "python",
   "pygments_lexer": "ipython3",
   "version": "3.10.13"
  }
 },
 "nbformat": 4,
 "nbformat_minor": 5
}
