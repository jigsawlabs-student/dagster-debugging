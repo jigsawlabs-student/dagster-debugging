{
 "cells": [
  {
   "cell_type": "markdown",
   "id": "cf5d2c4e-72d0-47b5-8578-2c509ab169ce",
   "metadata": {},
   "source": [
    "# Developing with Dagster"
   ]
  },
  {
   "cell_type": "markdown",
   "id": "e66b918f-fc9d-4068-890a-1d9ebc141d64",
   "metadata": {},
   "source": [
    "* After running the tests\n",
    "* Should place the lines: \n",
    "```bash\n",
    "eval \"$(pyenv init -)\"\n",
    "eval \"$(pyenv virtualenv-init -)\"\n",
    "```"
   ]
  },
  {
   "cell_type": "markdown",
   "id": "a445ea59-a49c-4b26-985d-f4d70e6719ea",
   "metadata": {},
   "source": [
    "Into your `.bash_profile`."
   ]
  },
  {
   "cell_type": "markdown",
   "id": "e9b70626-9d98-42f8-a8c2-90948f40172f",
   "metadata": {},
   "source": [
    "And if you activate dagster:\n",
    "    \n",
    "`pyenv activate dagster39`"
   ]
  },
  {
   "cell_type": "markdown",
   "id": "df01d807-582c-4579-b68f-2167b2e66e0f",
   "metadata": {},
   "source": [
    "Then you should be able to call:\n",
    "`which dagster` and see that this is getting called from your pyenv environment.\n",
    "\n",
    "`which dagster`"
   ]
  },
  {
   "cell_type": "markdown",
   "id": "81185d53-ba70-461b-9617-aae99b49ecbb",
   "metadata": {},
   "source": [
    "`/Users/jeffreykatz/.pyenv/shims/dagster`."
   ]
  },
  {
   "cell_type": "markdown",
   "id": "050e4db0-0eb0-4729-b83c-681eae823c5f",
   "metadata": {},
   "source": [
    "### Debugging with Dagster"
   ]
  },
  {
   "cell_type": "markdown",
   "id": "0fa9f94f-070b-4113-a0f6-48bce75665b5",
   "metadata": {},
   "source": [
    "Now we should be able to explore the dagster codebase with breakpoints and more.  For example, if we call:"
   ]
  },
  {
   "cell_type": "markdown",
   "id": "8ffc4d2e-0b65-4f38-aa39-1797b7cbf816",
   "metadata": {},
   "source": [
    "`dagster job list`"
   ]
  },
  {
   "cell_type": "markdown",
   "id": "f2ebe095-d338-4396-91be-dd52f5748722",
   "metadata": {},
   "source": [
    "And then place a breakpoint:"
   ]
  },
  {
   "cell_type": "markdown",
   "id": "226d6722-950d-4302-9ccf-a83b5b0a4ce0",
   "metadata": {},
   "source": [
    "```python\n",
    "def create_dagster_cli():\n",
    "    breakpoint()\n",
    "    commands = {\n",
    "        \"api\": api_cli,\n",
    "```"
   ]
  },
  {
   "cell_type": "markdown",
   "id": "07b4ff83-2da1-469d-97d5-af29466956ee",
   "metadata": {},
   "source": [
    "Run `dagster job list` again, and you should hit your breakpoint."
   ]
  },
  {
   "cell_type": "markdown",
   "id": "2458ce6e-33e9-4e96-bcfe-5f36118db558",
   "metadata": {},
   "source": [
    "<img src=\"./hitting-breakpoint.png\" width=\"100%\">"
   ]
  },
  {
   "cell_type": "markdown",
   "id": "503465ce-ba1a-4521-9502-2e64c7c9a155",
   "metadata": {},
   "source": [
    "### The GraphQL Api"
   ]
  },
  {
   "cell_type": "markdown",
   "id": "6a9f816c-8a12-4387-814f-e3617d15575e",
   "metadata": {},
   "source": [
    "* ok"
   ]
  },
  {
   "cell_type": "markdown",
   "id": "0f52ad4c-8624-460e-8359-2d1a3b344e11",
   "metadata": {},
   "source": [
    "### Dagster Postgres"
   ]
  },
  {
   "cell_type": "markdown",
   "id": "462fc33f-6465-4e78-93fb-5dc8810ff232",
   "metadata": {},
   "source": [
    "* From libraries dagster-postgres, storage.py file."
   ]
  },
  {
   "cell_type": "markdown",
   "id": "fb3944cb-3e95-41b3-b6f3-2177ede0aa5e",
   "metadata": {},
   "source": [
    "* Users should not directly instantiate this class; it is instantiated by internal machinery when\n",
    "    ``dagster-webserver`` and ``dagster-daemon`` load, based on the values in the ``dagster.yaml`` file in\n",
    "    ``$DAGSTER_HOME``. Configuration of this class should be done by setting values in that file."
   ]
  },
  {
   "cell_type": "markdown",
   "id": "df217766-8f7a-4666-86c0-524c8487976f",
   "metadata": {},
   "source": [
    "* Can explore more about db connection with\n",
    "    * Search for `JobTable`\n",
    "    * Search for `db.Table` (in schema.py file)"
   ]
  },
  {
   "cell_type": "markdown",
   "id": "9470f4af-7858-41f5-b164-289aa4d1451d",
   "metadata": {},
   "source": [
    "### Dagster Tutorials\n",
    "\n",
    "[Hnawaz Dagster Tutorial](https://medium.com/@hnawaz100) and [Github repo](https://python.plainenglish.io/manage-your-data-pipelines-with-dagster-software-defined-assets-io-managers-3d76d892aa22)"
   ]
  },
  {
   "cell_type": "code",
   "execution_count": null,
   "id": "7ea9fc98-deca-46e8-af73-2bf73f38dc83",
   "metadata": {},
   "outputs": [],
   "source": []
  }
 ],
 "metadata": {
  "kernelspec": {
   "display_name": "Python 3 (ipykernel)",
   "language": "python",
   "name": "python3"
  },
  "language_info": {
   "codemirror_mode": {
    "name": "ipython",
    "version": 3
   },
   "file_extension": ".py",
   "mimetype": "text/x-python",
   "name": "python",
   "nbconvert_exporter": "python",
   "pygments_lexer": "ipython3",
   "version": "3.10.13"
  }
 },
 "nbformat": 4,
 "nbformat_minor": 5
}
