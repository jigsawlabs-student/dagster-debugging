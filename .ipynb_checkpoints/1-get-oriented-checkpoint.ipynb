{
 "cells": [
  {
   "cell_type": "markdown",
   "id": "b3c33dc7-d9b5-4a9e-ac46-4a2b38203ecc",
   "metadata": {},
   "source": [
    "# First Bug"
   ]
  },
  {
   "cell_type": "markdown",
   "id": "0b1cbe94-2143-4ec5-8b4a-8a64b34adf6c",
   "metadata": {},
   "source": [
    "### Finding our bug"
   ]
  },
  {
   "cell_type": "markdown",
   "id": "60674fd3-72cc-4f14-a874-2663e7f4aaf4",
   "metadata": {},
   "source": [
    "We have identified this [bug in dagster](https://github.com/dagster-io/dagster/issues/17707), as a good first issue to tackle.  Don't worry, it's plenty hard.\n",
    "\n",
    "One of the tricky things is understanding Dagster's Architecture.  Doing that can help us to identify exactly at what level the bug is occurring.  For example, a basic understanding of Dagster's architecture is:\n",
    "\n",
    "* Javascript/React frontend making requests to\n",
    "* Python API (backend)"
   ]
  },
  {
   "cell_type": "markdown",
   "id": "24defc94-6f77-4304-9351-842017df26ca",
   "metadata": {},
   "source": [
    "If we can see the bug occurring in the data the Python API sends back, then we can largely ignore the entire React codebase.  However, if the Python API is sending back the correct data, then this means that the problem is in the React front end.  \n",
    "\n",
    "So what is the architecture of Dagster?\n",
    "\n",
    "* React FrontEnd\n",
    "* Fetching data largely (if not entirely) via GraphQL using a library called Apollo\n",
    "* Python Backend serves as a GraphQL API [relevant code here](https://github.com/dagster-io/dagster/tree/master/python_modules/dagster-graphql/dagster_graphql)\n",
    "* And this connects to either a SQLite or Postgres db -  some [relevant code here](https://github.com/dagster-io/dagster/tree/master/python_modules/dagster/dagster/_core/storage), via SQlAlchemy"
   ]
  },
  {
   "cell_type": "markdown",
   "id": "dc7c0821-a8de-47d7-bc2a-c2b0a4d0fa09",
   "metadata": {},
   "source": [
    "So if we identify that the bug is occurring on the database level (which it likely is), we may also be able to avoid learning GraphQL (but maybe not).\n",
    "\n",
    "> We can think of GraphQL as an API for the front end to query our Python code.\n",
    "\n",
    "And, so then we can narrow down our problem."
   ]
  },
  {
   "cell_type": "markdown",
   "id": "189a2016-1bd0-4a44-90de-fe273bc23180",
   "metadata": {},
   "source": [
    "### General Debugging Principal"
   ]
  },
  {
   "cell_type": "markdown",
   "id": "11713b84-81b8-46b6-96d6-9f46804d1e38",
   "metadata": {},
   "source": [
    "So a principal part of debugging is determining at what level the bug is occurring: the frontend, the api (graphql), the database (or really the data getting into the database).\n",
    "\n",
    "And really the first step is reproducing the bug, and seeing it in the UI -- see [this doc](https://docs.google.com/document/d/1BYXKX36rTblWS3eGkferfejLgTs3Wcsw5mqHQhDXYn8/edit) for reproducing our bug.\n",
    "\n",
    "Then essentially, we can explore the different levels that the bug occurs in."
   ]
  },
  {
   "cell_type": "markdown",
   "id": "155e9537-f9af-4e72-87e4-5e1f27ae1f71",
   "metadata": {},
   "source": [
    "### Going from frontend to backend"
   ]
  },
  {
   "cell_type": "markdown",
   "id": "d176826d-738d-4f9e-9c23-1863b4fe41ee",
   "metadata": {},
   "source": [
    "It's nice to understand how our React front end is using our Python backend.  That way we can (hopefully) see which part of our Python code is relevant.  In other words, we are tracing our bug backwards -- from the frontend (where we see it) down to the level that is leading to it. "
   ]
  },
  {
   "cell_type": "markdown",
   "id": "8069c7b0-185d-426d-be84-83ee51a20fbe",
   "metadata": {},
   "source": [
    "So that we can avoid navigating through a lot of JS, a good technique is to go to the relevant UI, and then look at the Network tab to see what API calls are being made.  \n",
    "\n",
    "Our bug relates to Runs, and in reproducing the bug, we have seen that the run *does* show up in the Runs page, but does not show up when we click on a specific job and then from there click on runs.  \n",
    "\n",
    "> **Note** Just this one observation (without any coding) gives us valuable information.  It means that the run is being stored in the db, but maybe\n",
    "\n",
    "* it is not being tagged with the right job id, \n",
    "* or it could be query to that job's runs is not being called correctly, \n",
    "* or that the query function to the db is not defined properly \n",
    "\n",
    "If it's working on one page but not another, we are likely querying the API differently on one page than another.  So let's see the different query calls by exploring the Network tab."
   ]
  },
  {
   "cell_type": "markdown",
   "id": "ba3b33d2-eb40-4968-b791-c43db9b8e8be",
   "metadata": {},
   "source": [
    "1. Graphql from the Runs page"
   ]
  },
  {
   "cell_type": "markdown",
   "id": "70e64d88-c587-4442-bf5b-64bae3a1bd03",
   "metadata": {},
   "source": [
    "<img src=\"./graph-ql.png\">"
   ]
  },
  {
   "cell_type": "markdown",
   "id": "cf819af8-fa0c-4355-84cc-30c37b1da90f",
   "metadata": {},
   "source": [
    "> Above we identify the relevant graphql call by looking at the response and seeing that it aligns with the relevant data in the UI.  \n",
    "\n",
    "And from there, we can click on Payload to see what query generated this.  So below we see it was the `RunsRootQuery`."
   ]
  },
  {
   "cell_type": "markdown",
   "id": "70783864-74be-4a87-8509-b8e13680f9ea",
   "metadata": {},
   "source": [
    "<img src=\"./payload-request.png\">"
   ]
  },
  {
   "cell_type": "markdown",
   "id": "7745d04c-82f7-4478-ac39-95bb44ccc2f8",
   "metadata": {},
   "source": [
    "> Where does the `RunsRootQuery` come from?  Well we can search for it in our ui-code in the Javascript via the [AutomaterializeRunHistoryTable.tsx](https://github.com/dagster-io/dagster/blob/master/js_modules/dagster-ui/packages/ui-core/src/assets/auto-materialization/AutomaterializeRunHistoryTable.tsx) here.\n",
    "\n",
    "> A simple click on Finder in VS code, and searching the codebase for `RunsRootQuery` is how we got there."
   ]
  },
  {
   "cell_type": "markdown",
   "id": "50580ed6-b3ea-4361-a03d-f2e172ea3170",
   "metadata": {},
   "source": [
    "#### 2. From the Jobs Table\n",
    "\n",
    "Ok, so is there a different query in the Jobs table that may explain the difference?  \n",
    "Well we can see there are different queries, if, in the dagster UI we go to `Overview > Jobs`, and then click on a particular job.  \n",
    "\n",
    "From there we again need to sort through the different GraphQL calls, via the Network tab to find the relevant one.  We see that there is a `LatestRunTagQuery`, and a `PipelineRunsRootQuery`.  \n",
    "\n"
   ]
  },
  {
   "cell_type": "markdown",
   "id": "d0620ca8-d6d0-48ce-aaf9-9b9dd1f01291",
   "metadata": {},
   "source": [
    "<img src=\"./latest-tag-query.png\">"
   ]
  },
  {
   "cell_type": "markdown",
   "id": "e3a72fbd-58de-4153-b67e-d0c810fef2cd",
   "metadata": {},
   "source": [
    "> The `PipelineRunsRootQuery` seems the most relevant one."
   ]
  },
  {
   "cell_type": "markdown",
   "id": "2f9d1e3c-bdd4-4dc6-b1c0-2a3fdc88a09c",
   "metadata": {},
   "source": [
    "<img src=\"./pipeline-runs-root.png\">"
   ]
  },
  {
   "cell_type": "markdown",
   "id": "860d1485-9754-41f3-8ff2-ca56e8bf16e3",
   "metadata": {},
   "source": [
    "We can see that it filters for our pipelineName.  So again, maybe this query is wrong, or our run could be improperly tagged in the database (ie missing the `pipelineName` or `JobName`)."
   ]
  },
  {
   "cell_type": "markdown",
   "id": "548ce48c-c69a-4a10-a658-6672c32fade8",
   "metadata": {},
   "source": [
    "### GraphQL With Python \n",
    "\n",
    "> Just casually understand this, the next section may be more promising.  Maybe just run through these resources for 30 minutes, as the next section may be more promising."
   ]
  },
  {
   "cell_type": "markdown",
   "id": "aa559fad-0c62-471f-829c-fca04f7c24c5",
   "metadata": {},
   "source": [
    "Remember, that our Python codebase is going to act as the graphql server.  And unfortunately, we may not know GraphQL too well to be able to navigate the codebase and debug.  \n",
    "\n",
    "You can see there is a `dagster_graphql`, [module](https://github.com/dagster-io/dagster/tree/master/python_modules/dagster-graphql) that it uses Python, GraphQL and the Graphene library to try to (likely) make queries to the backend."
   ]
  },
  {
   "cell_type": "markdown",
   "id": "fbf313e5-abf0-47bb-9c0a-75aea52bd652",
   "metadata": {},
   "source": [
    "You can learn about Graphene [here](https://www.apollographql.com/blog/complete-api-guide), and maybe [here](https://docs.graphene-python.org/en/latest/quickstart/).  And you can learn a bit about graphql (with Javascript) [here](https://www.apollographql.com/docs/kotlin/v2/tutorial/03-write-your-first-query/). "
   ]
  },
  {
   "cell_type": "markdown",
   "id": "89752af8-b50d-4bf6-ba6c-77098d50d5ef",
   "metadata": {},
   "source": [
    "> From here, it's useful to explore the dagster graphql [module](https://github.com/dagster-io/dagster/tree/master/python_modules/dagster-graphql), maybe the tests as well, and the runs file to get a sense of how this works.  (**Maybe skip this**)"
   ]
  },
  {
   "cell_type": "markdown",
   "id": "83ba0833-0956-404f-9f6b-ba4da1b530b0",
   "metadata": {},
   "source": [
    "### Storage (May be Key)"
   ]
  },
  {
   "cell_type": "markdown",
   "id": "25ed147d-233f-4564-8ea9-db6f346e8bab",
   "metadata": {},
   "source": [
    "While we may not understand GraphQL too well, we are more familiar with SQLAlchemy, and lucky for us, those who [explored this bug](https://github.com/dagster-io/dagster/issues/17707) believe that is the issue.  They identified [Dagster storage]([Dagster Storage](https://github.com/dagster-io/dagster/tree/master/python_modules/dagster/dagster/_core/storage)), [specifically here](https://github.com/dagster-io/dagster/blob/master/python_modules/dagster/dagster/_core/storage/dagster_run.py#L382-L384) as something to mimic the logic of."
   ]
  },
  {
   "cell_type": "markdown",
   "id": "4e46bbde-f46b-480f-9d26-c1cf7b5bc731",
   "metadata": {},
   "source": [
    "We can see that [Dagster Storage](https://github.com/dagster-io/dagster/tree/master/python_modules/dagster/dagster/_core/storage) does use SQLAlchemy (at least Alembic), which is closely related.  So perhaps this can allow us to see how Jobs are saved in the db, and then this can show us why they are not being saved through the CLI.\n",
    "\n",
    "The closer we can get to the problem the better.\n",
    "\n",
    "\n",
    "* We can learn a little more about storage [here](https://docs.dagster.io/deployment/dagster-instance).\n",
    "* We still should explore where the [sqlalchemy library](https://docs.sqlalchemy.org/en/13/orm/extensions/declarative/basic_use.html) is potentially used.\n",
    "* Is there a way to use our SQLAlchemy knowledge to connect to the db?\n",
    "\n",
    "Then from there, we can perhaps understand (1) how a dagster run is stored in our db and then (2) why a job, and specifically a job tagged to that run is (likely) not being stored in the db."
   ]
  },
  {
   "cell_type": "markdown",
   "id": "3814e10e-0dd1-4483-8466-4f25965b1cc6",
   "metadata": {
    "tags": []
   },
   "source": [
    "### Re-Explore Suggested Files\n",
    "\n",
    "\n",
    "* From here, may be worth going back to the files identified in the bug, and to better understand how the _core/storage works, and ultimately saves to the database.  \n",
    "* https://github.com/dagster-io/dagster/blob/master/python_modules/dagster/dagster/_core/storage/dagster_run.py#L382-L384 \n",
    "\n",
    "* It is likely using a relational backend database (sqlite or postgres), so if we can see that it the job is not being stored there, we need to identify a fix.\n",
    "\n",
    "The main question here is, how does dagster store information about a run, in the database, and is that same thing occurring from the CLI (especially when creating a job).\n",
    "\n",
    "And from there to try to understand how this can related to the `_cli/job.py` file.\n",
    "* https://github.com/dagster-io/dagster/blob/master/python_modules/dagster/dagster/_cli/job.py"
   ]
  },
  {
   "cell_type": "markdown",
   "id": "b4447747-0ba6-4257-8709-5c051cbfbb13",
   "metadata": {},
   "source": [
    "### That's it"
   ]
  },
  {
   "cell_type": "markdown",
   "id": "573e3509-f731-488d-be9f-a771224dc0e4",
   "metadata": {},
   "source": [
    "Ok, that's the most promising components identified so far.  But if you would like to see things from a JS perspective (as I spent some time doing) there are resources below.\n",
    "\n",
    "And remember in identifying our bug (with breakpoints, potential fixes), we'll want to have our Dagster dev environment setup as specified in step 3 [in the google doc](https://docs.google.com/document/d/1BYXKX36rTblWS3eGkferfejLgTs3Wcsw5mqHQhDXYn8/edit).\n",
    "\n",
    "Also, yes, it likley took a long time to get seemingly no-where, but you are ramping up on a very complicated codebase, and that takes a bit of time."
   ]
  },
  {
   "cell_type": "markdown",
   "id": "4c0d19cb-87f8-4664-9fa3-1082409799f2",
   "metadata": {},
   "source": [
    "### Graphql playground in JS"
   ]
  },
  {
   "cell_type": "markdown",
   "id": "0d7de590-bab3-49d5-b81a-a7271e75dc50",
   "metadata": {},
   "source": [
    "If you want more practice with Graphql, and to get a sense of how it works with the front end, we can also get a sense of how graphql works, by moving through this tutorial [ApolloGraphQL](https://www.apollographql.com/docs/kotlin/v2/tutorial/03-write-your-first-query/)"
   ]
  },
  {
   "cell_type": "markdown",
   "id": "9d794dfb-c4b6-4027-ab38-b2e4d66a89f2",
   "metadata": {},
   "source": [
    "> To move through the tutorial, one error was that the apollo server was not being installed per the docs, but was able to fix by running \n",
    "> `npm install apollo-server`"
   ]
  },
  {
   "cell_type": "markdown",
   "id": "b260a5d5-3ac3-436b-a376-62eb39ecc4f9",
   "metadata": {},
   "source": [
    "* Remember that Dagster has a webserver playground that you can interact with.  See [Dagster GraphQL API Docs](https://docs.dagster.io/concepts/webserver/graphql) here.\n",
    "\n",
    "So if we can reproduce the bug, by hitting the graphql server, that is our bug.  \n",
    "\n",
    "To see the bug, we can go back to the queries that were being fetched from the client front end:\n",
    "\n",
    "* PipelineRootsQuery, filter: pipelinename: diamond\n",
    "* LatestRunTagQuery, runsfilter: pipelinename: diamond\n",
    "\n",
    "Ultimately, we can probably find those queries by searching the [UI Core](https://github.com/dagster-io/dagster/tree/master/js_modules/dagster-ui/packages/ui-core) for them, and then reproducing in our playground.   "
   ]
  },
  {
   "cell_type": "markdown",
   "id": "f808718c-3133-4f88-b9b4-1ab828863475",
   "metadata": {},
   "source": [
    "### Javascript Frontend Calls (Probably A RabbitHole)"
   ]
  },
  {
   "cell_type": "markdown",
   "id": "9bc18fdd-b485-4cb3-a9ac-c35bca64a5de",
   "metadata": {},
   "source": [
    "Potential Backend Calls\n",
    "\n",
    "1. UseQuery\n",
    "We can also see [via the docs](https://www.apollographql.com/docs/react/data/queries/), that queries are made via the `useQuery` method, and we can find these calls in the dagster codebase.\n",
    "\n",
    "But only in two places:\n",
    "* useAssetGraphData.tsx\n",
    "* QueryRefresh.tsx\n",
    "\n",
    "All other places in the codebase, likely reference the functions in these files.\n",
    "\n",
    "2. Client.query\n",
    "\n",
    "* Look at the `RunFilterInput.tsx` file, which has calls to client.query, which also is retrieving data"
   ]
  },
  {
   "cell_type": "markdown",
   "id": "8e830408-555e-4d2f-9b36-91667d123fc2",
   "metadata": {},
   "source": [
    "### Explore how apollo connects to backend"
   ]
  },
  {
   "cell_type": "markdown",
   "id": "7e5f1670-2731-475d-9c28-92f00891dca1",
   "metadata": {},
   "source": [
    "* Even with the exploration above, there is still the question of how Apollo connects to our Python API or a backend database."
   ]
  },
  {
   "cell_type": "markdown",
   "id": "1cfe9478-b0cb-4543-a5a3-d7abe08a39e3",
   "metadata": {},
   "source": [
    "* Can see some relevant documentation here with [Apollo Data Sources](https://www.apollographql.com/tutorials/fullstack-quickstart/03-connecting-to-data-sources)"
   ]
  },
  {
   "cell_type": "markdown",
   "id": "696649d5-0185-46ea-90ec-23b480b3ee75",
   "metadata": {},
   "source": [
    "If we look at the `AppProvider.tsx` file we can see some urls listed in that file."
   ]
  },
  {
   "cell_type": "markdown",
   "id": "4656fc50-4b29-4483-a564-21703100164b",
   "metadata": {},
   "source": [
    "### Explore GraphQl"
   ]
  },
  {
   "cell_type": "markdown",
   "id": "9c8606c4-854b-4995-8887-aaa57528e70f",
   "metadata": {},
   "source": [
    "* The next step is to confirm our bug on the graphql level.  \n",
    "\n",
    "In other words, now that we have seen the bug show up on the UI level, let's perform the same steps, and confirm that it shows up at the graphql level.  \n",
    "\n",
    "* If it does, we can likely be done searching through react code, and instead change our focus to the python backend.  And when we do, we now know the related graphql call  "
   ]
  },
  {
   "cell_type": "markdown",
   "id": "61d5b8e2-629e-4b2d-a669-7cff040f35d2",
   "metadata": {},
   "source": [
    "We have a couple prospects:\n",
    " * PipelineRootsQuery, `filter: pipelinename: diamond`\n",
    " * LatestRunTagQuery, `runsfilter: pipelinename: diamond`"
   ]
  },
  {
   "cell_type": "markdown",
   "id": "837cff33-5d31-4f32-ab95-f5bda441f75a",
   "metadata": {},
   "source": [
    "* [Dagster GraphQL API Docs](https://docs.dagster.io/concepts/webserver/graphql)"
   ]
  },
  {
   "cell_type": "code",
   "execution_count": null,
   "id": "d2faaf80-3b08-4670-b705-f2060c851fb1",
   "metadata": {},
   "outputs": [],
   "source": []
  }
 ],
 "metadata": {
  "kernelspec": {
   "display_name": "Python 3 (ipykernel)",
   "language": "python",
   "name": "python3"
  },
  "language_info": {
   "codemirror_mode": {
    "name": "ipython",
    "version": 3
   },
   "file_extension": ".py",
   "mimetype": "text/x-python",
   "name": "python",
   "nbconvert_exporter": "python",
   "pygments_lexer": "ipython3",
   "version": "3.9.12"
  }
 },
 "nbformat": 4,
 "nbformat_minor": 5
}
